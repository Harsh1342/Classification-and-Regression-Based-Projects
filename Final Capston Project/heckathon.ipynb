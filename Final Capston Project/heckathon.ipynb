{
 "cells": [
  {
   "cell_type": "code",
   "execution_count": null,
   "id": "3fc45144",
   "metadata": {},
   "outputs": [],
   "source": [
    "import numpy as np \n",
    "import pandas as pd"
   ]
  },
  {
   "cell_type": "code",
   "execution_count": null,
   "id": "49d6e57f",
   "metadata": {},
   "outputs": [],
   "source": [
    "df = pd.read_csv(\"train.csv\")\n",
    "series = df['id'].squeeze()\n",
    "\n",
    "print(type(series))\n",
    "print(df.shape)\n",
    "df.head()"
   ]
  },
  {
   "cell_type": "code",
   "execution_count": null,
   "id": "acb02418",
   "metadata": {},
   "outputs": [],
   "source": [
    "df.head()"
   ]
  },
  {
   "cell_type": "code",
   "execution_count": null,
   "id": "5128794d",
   "metadata": {},
   "outputs": [],
   "source": [
    "test = pd.read_csv(\"test.csv\")\n",
    "test.head()\n",
    "sr = test['id'].squeeze()\n",
    "sr"
   ]
  },
  {
   "cell_type": "code",
   "execution_count": null,
   "id": "fc4d9dcf",
   "metadata": {},
   "outputs": [],
   "source": [
    "df.dropna(axis=0)"
   ]
  },
  {
   "cell_type": "code",
   "execution_count": null,
   "id": "005b69aa",
   "metadata": {},
   "outputs": [],
   "source": [
    "test=test.interpolate(method=\"spline\",order=2,limit_direction=\"both\")"
   ]
  },
  {
   "cell_type": "code",
   "execution_count": null,
   "id": "7f00dbe0",
   "metadata": {},
   "outputs": [],
   "source": []
  },
  {
   "cell_type": "code",
   "execution_count": null,
   "id": "bea86a0a",
   "metadata": {},
   "outputs": [],
   "source": []
  },
  {
   "cell_type": "code",
   "execution_count": null,
   "id": "13e09b21",
   "metadata": {},
   "outputs": [],
   "source": []
  },
  {
   "cell_type": "code",
   "execution_count": null,
   "id": "9fe5a495",
   "metadata": {},
   "outputs": [],
   "source": [
    "from sklearn import preprocessing\n",
    "le = preprocessing.LabelEncoder()\n",
    "\n",
    "df[\"maincateg\"] = le.fit_transform(df[\"maincateg\"])\n",
    "df[\"platform\"] = le.fit_transform(df[\"platform\"])\n",
    "df=df._get_numeric_data()"
   ]
  },
  {
   "cell_type": "code",
   "execution_count": null,
   "id": "2651d6d6",
   "metadata": {},
   "outputs": [],
   "source": []
  },
  {
   "cell_type": "code",
   "execution_count": 43,
   "id": "3cd607d5",
   "metadata": {},
   "outputs": [
    {
     "data": {
      "text/plain": [
       "(15730, 14)"
      ]
     },
     "execution_count": 43,
     "metadata": {},
     "output_type": "execute_result"
    }
   ],
   "source": [
    "df.shape"
   ]
  },
  {
   "cell_type": "code",
   "execution_count": 44,
   "id": "3b7bff0a",
   "metadata": {},
   "outputs": [
    {
     "data": {
      "text/plain": [
       "0     698\n",
       "1     999\n",
       "2    2749\n",
       "3     518\n",
       "4    1379\n",
       "Name: price1, dtype: int64"
      ]
     },
     "execution_count": 44,
     "metadata": {},
     "output_type": "execute_result"
    }
   ],
   "source": [
    "y = df[\"price1\"]\n",
    "y.head()"
   ]
  },
  {
   "cell_type": "code",
   "execution_count": 45,
   "id": "38f64883",
   "metadata": {},
   "outputs": [],
   "source": [
    "df.drop([\"price1\"],axis = 1,inplace = True)"
   ]
  },
  {
   "cell_type": "code",
   "execution_count": 46,
   "id": "e6f88ba4",
   "metadata": {},
   "outputs": [
    {
     "data": {
      "text/html": [
       "<div>\n",
       "<style scoped>\n",
       "    .dataframe tbody tr th:only-of-type {\n",
       "        vertical-align: middle;\n",
       "    }\n",
       "\n",
       "    .dataframe tbody tr th {\n",
       "        vertical-align: top;\n",
       "    }\n",
       "\n",
       "    .dataframe thead th {\n",
       "        text-align: right;\n",
       "    }\n",
       "</style>\n",
       "<table border=\"1\" class=\"dataframe\">\n",
       "  <thead>\n",
       "    <tr style=\"text-align: right;\">\n",
       "      <th></th>\n",
       "      <th>id</th>\n",
       "      <th>Rating</th>\n",
       "      <th>maincateg</th>\n",
       "      <th>platform</th>\n",
       "      <th>actprice1</th>\n",
       "      <th>norating1</th>\n",
       "      <th>noreviews1</th>\n",
       "      <th>star_5f</th>\n",
       "      <th>star_4f</th>\n",
       "      <th>star_3f</th>\n",
       "      <th>star_2f</th>\n",
       "      <th>star_1f</th>\n",
       "      <th>fulfilled1</th>\n",
       "    </tr>\n",
       "  </thead>\n",
       "  <tbody>\n",
       "    <tr>\n",
       "      <th>0</th>\n",
       "      <td>16695</td>\n",
       "      <td>3.9</td>\n",
       "      <td>1</td>\n",
       "      <td>1</td>\n",
       "      <td>999</td>\n",
       "      <td>38.0</td>\n",
       "      <td>7.0</td>\n",
       "      <td>17.0</td>\n",
       "      <td>9.0</td>\n",
       "      <td>6.0</td>\n",
       "      <td>3</td>\n",
       "      <td>3</td>\n",
       "      <td>0</td>\n",
       "    </tr>\n",
       "    <tr>\n",
       "      <th>1</th>\n",
       "      <td>5120</td>\n",
       "      <td>3.8</td>\n",
       "      <td>0</td>\n",
       "      <td>1</td>\n",
       "      <td>1999</td>\n",
       "      <td>531.0</td>\n",
       "      <td>69.0</td>\n",
       "      <td>264.0</td>\n",
       "      <td>92.0</td>\n",
       "      <td>73.0</td>\n",
       "      <td>29</td>\n",
       "      <td>73</td>\n",
       "      <td>1</td>\n",
       "    </tr>\n",
       "    <tr>\n",
       "      <th>2</th>\n",
       "      <td>18391</td>\n",
       "      <td>4.4</td>\n",
       "      <td>1</td>\n",
       "      <td>1</td>\n",
       "      <td>4999</td>\n",
       "      <td>17.0</td>\n",
       "      <td>4.0</td>\n",
       "      <td>11.0</td>\n",
       "      <td>3.0</td>\n",
       "      <td>2.0</td>\n",
       "      <td>1</td>\n",
       "      <td>0</td>\n",
       "      <td>1</td>\n",
       "    </tr>\n",
       "    <tr>\n",
       "      <th>3</th>\n",
       "      <td>495</td>\n",
       "      <td>4.2</td>\n",
       "      <td>0</td>\n",
       "      <td>1</td>\n",
       "      <td>724</td>\n",
       "      <td>46413.0</td>\n",
       "      <td>6229.0</td>\n",
       "      <td>1045.0</td>\n",
       "      <td>12416.0</td>\n",
       "      <td>5352.0</td>\n",
       "      <td>701</td>\n",
       "      <td>4595</td>\n",
       "      <td>1</td>\n",
       "    </tr>\n",
       "    <tr>\n",
       "      <th>4</th>\n",
       "      <td>16408</td>\n",
       "      <td>3.9</td>\n",
       "      <td>0</td>\n",
       "      <td>1</td>\n",
       "      <td>2299</td>\n",
       "      <td>77.0</td>\n",
       "      <td>3.0</td>\n",
       "      <td>35.0</td>\n",
       "      <td>21.0</td>\n",
       "      <td>7.0</td>\n",
       "      <td>7</td>\n",
       "      <td>7</td>\n",
       "      <td>1</td>\n",
       "    </tr>\n",
       "  </tbody>\n",
       "</table>\n",
       "</div>"
      ],
      "text/plain": [
       "      id  Rating  maincateg  platform  actprice1  norating1  noreviews1  \\\n",
       "0  16695     3.9          1         1        999       38.0         7.0   \n",
       "1   5120     3.8          0         1       1999      531.0        69.0   \n",
       "2  18391     4.4          1         1       4999       17.0         4.0   \n",
       "3    495     4.2          0         1        724    46413.0      6229.0   \n",
       "4  16408     3.9          0         1       2299       77.0         3.0   \n",
       "\n",
       "   star_5f  star_4f  star_3f  star_2f  star_1f  fulfilled1  \n",
       "0     17.0      9.0      6.0        3        3           0  \n",
       "1    264.0     92.0     73.0       29       73           1  \n",
       "2     11.0      3.0      2.0        1        0           1  \n",
       "3   1045.0  12416.0   5352.0      701     4595           1  \n",
       "4     35.0     21.0      7.0        7        7           1  "
      ]
     },
     "execution_count": 46,
     "metadata": {},
     "output_type": "execute_result"
    }
   ],
   "source": [
    "X = df\n",
    "X.head()"
   ]
  },
  {
   "cell_type": "code",
   "execution_count": 16,
   "id": "13eeb2be",
   "metadata": {},
   "outputs": [
    {
     "data": {
      "text/html": [
       "<div>\n",
       "<style scoped>\n",
       "    .dataframe tbody tr th:only-of-type {\n",
       "        vertical-align: middle;\n",
       "    }\n",
       "\n",
       "    .dataframe tbody tr th {\n",
       "        vertical-align: top;\n",
       "    }\n",
       "\n",
       "    .dataframe thead th {\n",
       "        text-align: right;\n",
       "    }\n",
       "</style>\n",
       "<table border=\"1\" class=\"dataframe\">\n",
       "  <thead>\n",
       "    <tr style=\"text-align: right;\">\n",
       "      <th></th>\n",
       "      <th>0</th>\n",
       "      <th>1</th>\n",
       "      <th>2</th>\n",
       "      <th>3</th>\n",
       "      <th>4</th>\n",
       "      <th>5</th>\n",
       "      <th>6</th>\n",
       "      <th>7</th>\n",
       "      <th>8</th>\n",
       "      <th>9</th>\n",
       "      <th>10</th>\n",
       "      <th>11</th>\n",
       "      <th>12</th>\n",
       "    </tr>\n",
       "  </thead>\n",
       "  <tbody>\n",
       "    <tr>\n",
       "      <th>0</th>\n",
       "      <td>1.026283</td>\n",
       "      <td>-0.380370</td>\n",
       "      <td>0.854251</td>\n",
       "      <td>0.149097</td>\n",
       "      <td>-0.298891</td>\n",
       "      <td>-0.253945</td>\n",
       "      <td>-0.239406</td>\n",
       "      <td>-0.252848</td>\n",
       "      <td>-0.228610</td>\n",
       "      <td>-0.248264</td>\n",
       "      <td>-0.271939</td>\n",
       "      <td>-0.283662</td>\n",
       "      <td>-1.224916</td>\n",
       "    </tr>\n",
       "    <tr>\n",
       "      <th>1</th>\n",
       "      <td>-0.878047</td>\n",
       "      <td>-0.715075</td>\n",
       "      <td>-1.170616</td>\n",
       "      <td>0.149097</td>\n",
       "      <td>0.507512</td>\n",
       "      <td>-0.212278</td>\n",
       "      <td>-0.203757</td>\n",
       "      <td>-0.213037</td>\n",
       "      <td>-0.199034</td>\n",
       "      <td>-0.200627</td>\n",
       "      <td>-0.224965</td>\n",
       "      <td>-0.210151</td>\n",
       "      <td>0.816383</td>\n",
       "    </tr>\n",
       "    <tr>\n",
       "      <th>2</th>\n",
       "      <td>1.305311</td>\n",
       "      <td>1.293155</td>\n",
       "      <td>0.854251</td>\n",
       "      <td>0.149097</td>\n",
       "      <td>2.926722</td>\n",
       "      <td>-0.255720</td>\n",
       "      <td>-0.241131</td>\n",
       "      <td>-0.253815</td>\n",
       "      <td>-0.230748</td>\n",
       "      <td>-0.251108</td>\n",
       "      <td>-0.275553</td>\n",
       "      <td>-0.286813</td>\n",
       "      <td>0.816383</td>\n",
       "    </tr>\n",
       "    <tr>\n",
       "      <th>3</th>\n",
       "      <td>-1.638957</td>\n",
       "      <td>0.623745</td>\n",
       "      <td>-1.170616</td>\n",
       "      <td>0.149097</td>\n",
       "      <td>-0.520652</td>\n",
       "      <td>3.665534</td>\n",
       "      <td>3.338124</td>\n",
       "      <td>-0.087154</td>\n",
       "      <td>4.192573</td>\n",
       "      <td>3.552747</td>\n",
       "      <td>0.989139</td>\n",
       "      <td>4.538669</td>\n",
       "      <td>0.816383</td>\n",
       "    </tr>\n",
       "    <tr>\n",
       "      <th>4</th>\n",
       "      <td>0.979065</td>\n",
       "      <td>-0.380370</td>\n",
       "      <td>-1.170616</td>\n",
       "      <td>0.149097</td>\n",
       "      <td>0.749433</td>\n",
       "      <td>-0.250649</td>\n",
       "      <td>-0.241706</td>\n",
       "      <td>-0.249947</td>\n",
       "      <td>-0.224334</td>\n",
       "      <td>-0.247553</td>\n",
       "      <td>-0.264713</td>\n",
       "      <td>-0.279461</td>\n",
       "      <td>0.816383</td>\n",
       "    </tr>\n",
       "  </tbody>\n",
       "</table>\n",
       "</div>"
      ],
      "text/plain": [
       "         0         1         2         3         4         5         6   \\\n",
       "0  1.026283 -0.380370  0.854251  0.149097 -0.298891 -0.253945 -0.239406   \n",
       "1 -0.878047 -0.715075 -1.170616  0.149097  0.507512 -0.212278 -0.203757   \n",
       "2  1.305311  1.293155  0.854251  0.149097  2.926722 -0.255720 -0.241131   \n",
       "3 -1.638957  0.623745 -1.170616  0.149097 -0.520652  3.665534  3.338124   \n",
       "4  0.979065 -0.380370 -1.170616  0.149097  0.749433 -0.250649 -0.241706   \n",
       "\n",
       "         7         8         9         10        11        12  \n",
       "0 -0.252848 -0.228610 -0.248264 -0.271939 -0.283662 -1.224916  \n",
       "1 -0.213037 -0.199034 -0.200627 -0.224965 -0.210151  0.816383  \n",
       "2 -0.253815 -0.230748 -0.251108 -0.275553 -0.286813  0.816383  \n",
       "3 -0.087154  4.192573  3.552747  0.989139  4.538669  0.816383  \n",
       "4 -0.249947 -0.224334 -0.247553 -0.264713 -0.279461  0.816383  "
      ]
     },
     "execution_count": 16,
     "metadata": {},
     "output_type": "execute_result"
    }
   ],
   "source": [
    "\n"
   ]
  },
  {
   "cell_type": "code",
   "execution_count": 47,
   "id": "ce409e0d",
   "metadata": {},
   "outputs": [
    {
     "data": {
      "text/html": [
       "<div>\n",
       "<style scoped>\n",
       "    .dataframe tbody tr th:only-of-type {\n",
       "        vertical-align: middle;\n",
       "    }\n",
       "\n",
       "    .dataframe tbody tr th {\n",
       "        vertical-align: top;\n",
       "    }\n",
       "\n",
       "    .dataframe thead th {\n",
       "        text-align: right;\n",
       "    }\n",
       "</style>\n",
       "<table border=\"1\" class=\"dataframe\">\n",
       "  <thead>\n",
       "    <tr style=\"text-align: right;\">\n",
       "      <th></th>\n",
       "      <th>id</th>\n",
       "      <th>Rating</th>\n",
       "      <th>maincateg</th>\n",
       "      <th>platform</th>\n",
       "      <th>actprice1</th>\n",
       "      <th>norating1</th>\n",
       "      <th>noreviews1</th>\n",
       "      <th>star_5f</th>\n",
       "      <th>star_4f</th>\n",
       "      <th>star_3f</th>\n",
       "      <th>star_2f</th>\n",
       "      <th>star_1f</th>\n",
       "      <th>fulfilled1</th>\n",
       "    </tr>\n",
       "  </thead>\n",
       "  <tbody>\n",
       "    <tr>\n",
       "      <th>0</th>\n",
       "      <td>2242</td>\n",
       "      <td>3.8</td>\n",
       "      <td>0</td>\n",
       "      <td>1</td>\n",
       "      <td>999</td>\n",
       "      <td>27928</td>\n",
       "      <td>3543</td>\n",
       "      <td>14238.0</td>\n",
       "      <td>4295</td>\n",
       "      <td>3457</td>\n",
       "      <td>1962</td>\n",
       "      <td>3976.0</td>\n",
       "      <td>1</td>\n",
       "    </tr>\n",
       "    <tr>\n",
       "      <th>1</th>\n",
       "      <td>20532</td>\n",
       "      <td>3.9</td>\n",
       "      <td>1</td>\n",
       "      <td>1</td>\n",
       "      <td>499</td>\n",
       "      <td>3015</td>\n",
       "      <td>404</td>\n",
       "      <td>1458.0</td>\n",
       "      <td>657</td>\n",
       "      <td>397</td>\n",
       "      <td>182</td>\n",
       "      <td>321.0</td>\n",
       "      <td>1</td>\n",
       "    </tr>\n",
       "    <tr>\n",
       "      <th>2</th>\n",
       "      <td>10648</td>\n",
       "      <td>3.9</td>\n",
       "      <td>1</td>\n",
       "      <td>1</td>\n",
       "      <td>999</td>\n",
       "      <td>449</td>\n",
       "      <td>52</td>\n",
       "      <td>229.0</td>\n",
       "      <td>70</td>\n",
       "      <td>71</td>\n",
       "      <td>33</td>\n",
       "      <td>46.0</td>\n",
       "      <td>1</td>\n",
       "    </tr>\n",
       "    <tr>\n",
       "      <th>3</th>\n",
       "      <td>20677</td>\n",
       "      <td>3.9</td>\n",
       "      <td>0</td>\n",
       "      <td>1</td>\n",
       "      <td>2999</td>\n",
       "      <td>290</td>\n",
       "      <td>40</td>\n",
       "      <td>141.0</td>\n",
       "      <td>51</td>\n",
       "      <td>49</td>\n",
       "      <td>17</td>\n",
       "      <td>32.0</td>\n",
       "      <td>1</td>\n",
       "    </tr>\n",
       "    <tr>\n",
       "      <th>4</th>\n",
       "      <td>12593</td>\n",
       "      <td>3.9</td>\n",
       "      <td>0</td>\n",
       "      <td>1</td>\n",
       "      <td>999</td>\n",
       "      <td>2423</td>\n",
       "      <td>326</td>\n",
       "      <td>1265.0</td>\n",
       "      <td>414</td>\n",
       "      <td>293</td>\n",
       "      <td>143</td>\n",
       "      <td>308.0</td>\n",
       "      <td>0</td>\n",
       "    </tr>\n",
       "  </tbody>\n",
       "</table>\n",
       "</div>"
      ],
      "text/plain": [
       "      id  Rating  maincateg  platform  actprice1  norating1  noreviews1  \\\n",
       "0   2242     3.8          0         1        999      27928        3543   \n",
       "1  20532     3.9          1         1        499       3015         404   \n",
       "2  10648     3.9          1         1        999        449          52   \n",
       "3  20677     3.9          0         1       2999        290          40   \n",
       "4  12593     3.9          0         1        999       2423         326   \n",
       "\n",
       "   star_5f  star_4f  star_3f  star_2f  star_1f  fulfilled1  \n",
       "0  14238.0     4295     3457     1962   3976.0           1  \n",
       "1   1458.0      657      397      182    321.0           1  \n",
       "2    229.0       70       71       33     46.0           1  \n",
       "3    141.0       51       49       17     32.0           1  \n",
       "4   1265.0      414      293      143    308.0           0  "
      ]
     },
     "execution_count": 47,
     "metadata": {},
     "output_type": "execute_result"
    }
   ],
   "source": [
    "test[\"maincateg\"] = le.fit_transform(test[\"maincateg\"])\n",
    "test[\"platform\"] = le.fit_transform(test[\"platform\"])\n",
    "test=test._get_numeric_data()\n",
    "test.head()"
   ]
  },
  {
   "cell_type": "code",
   "execution_count": 48,
   "id": "70aff9bd",
   "metadata": {},
   "outputs": [
    {
     "data": {
      "text/html": [
       "<div>\n",
       "<style scoped>\n",
       "    .dataframe tbody tr th:only-of-type {\n",
       "        vertical-align: middle;\n",
       "    }\n",
       "\n",
       "    .dataframe tbody tr th {\n",
       "        vertical-align: top;\n",
       "    }\n",
       "\n",
       "    .dataframe thead th {\n",
       "        text-align: right;\n",
       "    }\n",
       "</style>\n",
       "<table border=\"1\" class=\"dataframe\">\n",
       "  <thead>\n",
       "    <tr style=\"text-align: right;\">\n",
       "      <th></th>\n",
       "      <th>id</th>\n",
       "      <th>Rating</th>\n",
       "      <th>maincateg</th>\n",
       "      <th>platform</th>\n",
       "      <th>actprice1</th>\n",
       "      <th>norating1</th>\n",
       "      <th>noreviews1</th>\n",
       "      <th>star_5f</th>\n",
       "      <th>star_4f</th>\n",
       "      <th>star_3f</th>\n",
       "      <th>star_2f</th>\n",
       "      <th>star_1f</th>\n",
       "      <th>fulfilled1</th>\n",
       "    </tr>\n",
       "  </thead>\n",
       "  <tbody>\n",
       "    <tr>\n",
       "      <th>0</th>\n",
       "      <td>2242</td>\n",
       "      <td>3.8</td>\n",
       "      <td>0</td>\n",
       "      <td>1</td>\n",
       "      <td>999</td>\n",
       "      <td>27928</td>\n",
       "      <td>3543</td>\n",
       "      <td>14238.0</td>\n",
       "      <td>4295</td>\n",
       "      <td>3457</td>\n",
       "      <td>1962</td>\n",
       "      <td>3976.0</td>\n",
       "      <td>1</td>\n",
       "    </tr>\n",
       "    <tr>\n",
       "      <th>1</th>\n",
       "      <td>20532</td>\n",
       "      <td>3.9</td>\n",
       "      <td>1</td>\n",
       "      <td>1</td>\n",
       "      <td>499</td>\n",
       "      <td>3015</td>\n",
       "      <td>404</td>\n",
       "      <td>1458.0</td>\n",
       "      <td>657</td>\n",
       "      <td>397</td>\n",
       "      <td>182</td>\n",
       "      <td>321.0</td>\n",
       "      <td>1</td>\n",
       "    </tr>\n",
       "    <tr>\n",
       "      <th>2</th>\n",
       "      <td>10648</td>\n",
       "      <td>3.9</td>\n",
       "      <td>1</td>\n",
       "      <td>1</td>\n",
       "      <td>999</td>\n",
       "      <td>449</td>\n",
       "      <td>52</td>\n",
       "      <td>229.0</td>\n",
       "      <td>70</td>\n",
       "      <td>71</td>\n",
       "      <td>33</td>\n",
       "      <td>46.0</td>\n",
       "      <td>1</td>\n",
       "    </tr>\n",
       "    <tr>\n",
       "      <th>3</th>\n",
       "      <td>20677</td>\n",
       "      <td>3.9</td>\n",
       "      <td>0</td>\n",
       "      <td>1</td>\n",
       "      <td>2999</td>\n",
       "      <td>290</td>\n",
       "      <td>40</td>\n",
       "      <td>141.0</td>\n",
       "      <td>51</td>\n",
       "      <td>49</td>\n",
       "      <td>17</td>\n",
       "      <td>32.0</td>\n",
       "      <td>1</td>\n",
       "    </tr>\n",
       "    <tr>\n",
       "      <th>4</th>\n",
       "      <td>12593</td>\n",
       "      <td>3.9</td>\n",
       "      <td>0</td>\n",
       "      <td>1</td>\n",
       "      <td>999</td>\n",
       "      <td>2423</td>\n",
       "      <td>326</td>\n",
       "      <td>1265.0</td>\n",
       "      <td>414</td>\n",
       "      <td>293</td>\n",
       "      <td>143</td>\n",
       "      <td>308.0</td>\n",
       "      <td>0</td>\n",
       "    </tr>\n",
       "  </tbody>\n",
       "</table>\n",
       "</div>"
      ],
      "text/plain": [
       "      id  Rating  maincateg  platform  actprice1  norating1  noreviews1  \\\n",
       "0   2242     3.8          0         1        999      27928        3543   \n",
       "1  20532     3.9          1         1        499       3015         404   \n",
       "2  10648     3.9          1         1        999        449          52   \n",
       "3  20677     3.9          0         1       2999        290          40   \n",
       "4  12593     3.9          0         1        999       2423         326   \n",
       "\n",
       "   star_5f  star_4f  star_3f  star_2f  star_1f  fulfilled1  \n",
       "0  14238.0     4295     3457     1962   3976.0           1  \n",
       "1   1458.0      657      397      182    321.0           1  \n",
       "2    229.0       70       71       33     46.0           1  \n",
       "3    141.0       51       49       17     32.0           1  \n",
       "4   1265.0      414      293      143    308.0           0  "
      ]
     },
     "execution_count": 48,
     "metadata": {},
     "output_type": "execute_result"
    }
   ],
   "source": [
    "test.head()\n"
   ]
  },
  {
   "cell_type": "code",
   "execution_count": null,
   "id": "d0ac9c60",
   "metadata": {},
   "outputs": [],
   "source": []
  },
  {
   "cell_type": "code",
   "execution_count": 49,
   "id": "ae8c3a46",
   "metadata": {},
   "outputs": [
    {
     "data": {
      "text/html": [
       "<div>\n",
       "<style scoped>\n",
       "    .dataframe tbody tr th:only-of-type {\n",
       "        vertical-align: middle;\n",
       "    }\n",
       "\n",
       "    .dataframe tbody tr th {\n",
       "        vertical-align: top;\n",
       "    }\n",
       "\n",
       "    .dataframe thead th {\n",
       "        text-align: right;\n",
       "    }\n",
       "</style>\n",
       "<table border=\"1\" class=\"dataframe\">\n",
       "  <thead>\n",
       "    <tr style=\"text-align: right;\">\n",
       "      <th></th>\n",
       "      <th>0</th>\n",
       "      <th>1</th>\n",
       "      <th>2</th>\n",
       "      <th>3</th>\n",
       "      <th>4</th>\n",
       "      <th>5</th>\n",
       "      <th>6</th>\n",
       "      <th>7</th>\n",
       "      <th>8</th>\n",
       "      <th>9</th>\n",
       "      <th>10</th>\n",
       "      <th>11</th>\n",
       "      <th>12</th>\n",
       "    </tr>\n",
       "  </thead>\n",
       "  <tbody>\n",
       "    <tr>\n",
       "      <th>0</th>\n",
       "      <td>1.022284</td>\n",
       "      <td>-0.378224</td>\n",
       "      <td>0.683056</td>\n",
       "      <td>0.148858</td>\n",
       "      <td>-0.298411</td>\n",
       "      <td>-0.254897</td>\n",
       "      <td>-0.235823</td>\n",
       "      <td>-0.253872</td>\n",
       "      <td>-0.226542</td>\n",
       "      <td>-0.250507</td>\n",
       "      <td>-0.272246</td>\n",
       "      <td>-0.284282</td>\n",
       "      <td>-1.228647</td>\n",
       "    </tr>\n",
       "    <tr>\n",
       "      <th>1</th>\n",
       "      <td>-0.881507</td>\n",
       "      <td>-0.713311</td>\n",
       "      <td>-1.138967</td>\n",
       "      <td>0.148858</td>\n",
       "      <td>0.507481</td>\n",
       "      <td>-0.213282</td>\n",
       "      <td>-0.200759</td>\n",
       "      <td>-0.213887</td>\n",
       "      <td>-0.197477</td>\n",
       "      <td>-0.202725</td>\n",
       "      <td>-0.225703</td>\n",
       "      <td>-0.211255</td>\n",
       "      <td>0.813904</td>\n",
       "    </tr>\n",
       "    <tr>\n",
       "      <th>2</th>\n",
       "      <td>1.301232</td>\n",
       "      <td>1.297210</td>\n",
       "      <td>0.683056</td>\n",
       "      <td>0.148858</td>\n",
       "      <td>2.925157</td>\n",
       "      <td>-0.256670</td>\n",
       "      <td>-0.237520</td>\n",
       "      <td>-0.254844</td>\n",
       "      <td>-0.228643</td>\n",
       "      <td>-0.253359</td>\n",
       "      <td>-0.275826</td>\n",
       "      <td>-0.287411</td>\n",
       "      <td>0.813904</td>\n",
       "    </tr>\n",
       "    <tr>\n",
       "      <th>3</th>\n",
       "      <td>-1.642202</td>\n",
       "      <td>0.627036</td>\n",
       "      <td>-1.138967</td>\n",
       "      <td>0.148858</td>\n",
       "      <td>-0.520032</td>\n",
       "      <td>3.659737</td>\n",
       "      <td>3.283065</td>\n",
       "      <td>-0.087456</td>\n",
       "      <td>4.118191</td>\n",
       "      <td>3.562070</td>\n",
       "      <td>0.977234</td>\n",
       "      <td>4.506244</td>\n",
       "      <td>0.813904</td>\n",
       "    </tr>\n",
       "    <tr>\n",
       "      <th>4</th>\n",
       "      <td>0.975080</td>\n",
       "      <td>-0.378224</td>\n",
       "      <td>-1.138967</td>\n",
       "      <td>0.148858</td>\n",
       "      <td>0.749249</td>\n",
       "      <td>-0.251605</td>\n",
       "      <td>-0.238086</td>\n",
       "      <td>-0.250959</td>\n",
       "      <td>-0.222340</td>\n",
       "      <td>-0.249793</td>\n",
       "      <td>-0.265085</td>\n",
       "      <td>-0.280109</td>\n",
       "      <td>0.813904</td>\n",
       "    </tr>\n",
       "  </tbody>\n",
       "</table>\n",
       "</div>"
      ],
      "text/plain": [
       "         0         1         2         3         4         5         6   \\\n",
       "0  1.022284 -0.378224  0.683056  0.148858 -0.298411 -0.254897 -0.235823   \n",
       "1 -0.881507 -0.713311 -1.138967  0.148858  0.507481 -0.213282 -0.200759   \n",
       "2  1.301232  1.297210  0.683056  0.148858  2.925157 -0.256670 -0.237520   \n",
       "3 -1.642202  0.627036 -1.138967  0.148858 -0.520032  3.659737  3.283065   \n",
       "4  0.975080 -0.378224 -1.138967  0.148858  0.749249 -0.251605 -0.238086   \n",
       "\n",
       "         7         8         9         10        11        12  \n",
       "0 -0.253872 -0.226542 -0.250507 -0.272246 -0.284282 -1.228647  \n",
       "1 -0.213887 -0.197477 -0.202725 -0.225703 -0.211255  0.813904  \n",
       "2 -0.254844 -0.228643 -0.253359 -0.275826 -0.287411  0.813904  \n",
       "3 -0.087456  4.118191  3.562070  0.977234  4.506244  0.813904  \n",
       "4 -0.250959 -0.222340 -0.249793 -0.265085 -0.280109  0.813904  "
      ]
     },
     "execution_count": 49,
     "metadata": {},
     "output_type": "execute_result"
    }
   ],
   "source": [
    "from sklearn.preprocessing import StandardScaler\n",
    "scal = StandardScaler()\n",
    "\n",
    "X_scalled = scal.fit_transform(X)\n",
    "X_scalled = pd.DataFrame(X_scalled)\n",
    "X_scalled.head()"
   ]
  },
  {
   "cell_type": "code",
   "execution_count": 50,
   "id": "54cf7b89",
   "metadata": {},
   "outputs": [
    {
     "name": "stdout",
     "output_type": "stream",
     "text": [
      "id            0\n",
      "Rating        0\n",
      "maincateg     0\n",
      "platform      0\n",
      "actprice1     0\n",
      "norating1     0\n",
      "noreviews1    0\n",
      "star_5f       0\n",
      "star_4f       0\n",
      "star_3f       0\n",
      "star_2f       0\n",
      "star_1f       0\n",
      "fulfilled1    0\n",
      "dtype: int64\n"
     ]
    },
    {
     "data": {
      "text/html": [
       "<div>\n",
       "<style scoped>\n",
       "    .dataframe tbody tr th:only-of-type {\n",
       "        vertical-align: middle;\n",
       "    }\n",
       "\n",
       "    .dataframe tbody tr th {\n",
       "        vertical-align: top;\n",
       "    }\n",
       "\n",
       "    .dataframe thead th {\n",
       "        text-align: right;\n",
       "    }\n",
       "</style>\n",
       "<table border=\"1\" class=\"dataframe\">\n",
       "  <thead>\n",
       "    <tr style=\"text-align: right;\">\n",
       "      <th></th>\n",
       "      <th>id</th>\n",
       "      <th>Rating</th>\n",
       "      <th>maincateg</th>\n",
       "      <th>platform</th>\n",
       "      <th>actprice1</th>\n",
       "      <th>norating1</th>\n",
       "      <th>noreviews1</th>\n",
       "      <th>star_5f</th>\n",
       "      <th>star_4f</th>\n",
       "      <th>star_3f</th>\n",
       "      <th>star_2f</th>\n",
       "      <th>star_1f</th>\n",
       "      <th>fulfilled1</th>\n",
       "    </tr>\n",
       "  </thead>\n",
       "  <tbody>\n",
       "    <tr>\n",
       "      <th>0</th>\n",
       "      <td>2242</td>\n",
       "      <td>3.8</td>\n",
       "      <td>0</td>\n",
       "      <td>1</td>\n",
       "      <td>999</td>\n",
       "      <td>27928</td>\n",
       "      <td>3543</td>\n",
       "      <td>14238.0</td>\n",
       "      <td>4295</td>\n",
       "      <td>3457</td>\n",
       "      <td>1962</td>\n",
       "      <td>3976.0</td>\n",
       "      <td>1</td>\n",
       "    </tr>\n",
       "    <tr>\n",
       "      <th>1</th>\n",
       "      <td>20532</td>\n",
       "      <td>3.9</td>\n",
       "      <td>1</td>\n",
       "      <td>1</td>\n",
       "      <td>499</td>\n",
       "      <td>3015</td>\n",
       "      <td>404</td>\n",
       "      <td>1458.0</td>\n",
       "      <td>657</td>\n",
       "      <td>397</td>\n",
       "      <td>182</td>\n",
       "      <td>321.0</td>\n",
       "      <td>1</td>\n",
       "    </tr>\n",
       "    <tr>\n",
       "      <th>2</th>\n",
       "      <td>10648</td>\n",
       "      <td>3.9</td>\n",
       "      <td>1</td>\n",
       "      <td>1</td>\n",
       "      <td>999</td>\n",
       "      <td>449</td>\n",
       "      <td>52</td>\n",
       "      <td>229.0</td>\n",
       "      <td>70</td>\n",
       "      <td>71</td>\n",
       "      <td>33</td>\n",
       "      <td>46.0</td>\n",
       "      <td>1</td>\n",
       "    </tr>\n",
       "    <tr>\n",
       "      <th>3</th>\n",
       "      <td>20677</td>\n",
       "      <td>3.9</td>\n",
       "      <td>0</td>\n",
       "      <td>1</td>\n",
       "      <td>2999</td>\n",
       "      <td>290</td>\n",
       "      <td>40</td>\n",
       "      <td>141.0</td>\n",
       "      <td>51</td>\n",
       "      <td>49</td>\n",
       "      <td>17</td>\n",
       "      <td>32.0</td>\n",
       "      <td>1</td>\n",
       "    </tr>\n",
       "    <tr>\n",
       "      <th>4</th>\n",
       "      <td>12593</td>\n",
       "      <td>3.9</td>\n",
       "      <td>0</td>\n",
       "      <td>1</td>\n",
       "      <td>999</td>\n",
       "      <td>2423</td>\n",
       "      <td>326</td>\n",
       "      <td>1265.0</td>\n",
       "      <td>414</td>\n",
       "      <td>293</td>\n",
       "      <td>143</td>\n",
       "      <td>308.0</td>\n",
       "      <td>0</td>\n",
       "    </tr>\n",
       "  </tbody>\n",
       "</table>\n",
       "</div>"
      ],
      "text/plain": [
       "      id  Rating  maincateg  platform  actprice1  norating1  noreviews1  \\\n",
       "0   2242     3.8          0         1        999      27928        3543   \n",
       "1  20532     3.9          1         1        499       3015         404   \n",
       "2  10648     3.9          1         1        999        449          52   \n",
       "3  20677     3.9          0         1       2999        290          40   \n",
       "4  12593     3.9          0         1        999       2423         326   \n",
       "\n",
       "   star_5f  star_4f  star_3f  star_2f  star_1f  fulfilled1  \n",
       "0  14238.0     4295     3457     1962   3976.0           1  \n",
       "1   1458.0      657      397      182    321.0           1  \n",
       "2    229.0       70       71       33     46.0           1  \n",
       "3    141.0       51       49       17     32.0           1  \n",
       "4   1265.0      414      293      143    308.0           0  "
      ]
     },
     "execution_count": 50,
     "metadata": {},
     "output_type": "execute_result"
    }
   ],
   "source": [
    "print(test.isna().sum())\n",
    "test.head()"
   ]
  },
  {
   "cell_type": "code",
   "execution_count": null,
   "id": "29461214",
   "metadata": {},
   "outputs": [],
   "source": [
    "\n"
   ]
  },
  {
   "cell_type": "code",
   "execution_count": 21,
   "id": "39e59bad",
   "metadata": {},
   "outputs": [
    {
     "data": {
      "text/plain": [
       "(14945, 13)"
      ]
     },
     "execution_count": 21,
     "metadata": {},
     "output_type": "execute_result"
    }
   ],
   "source": [
    "X_scalled.shape"
   ]
  },
  {
   "cell_type": "code",
   "execution_count": 51,
   "id": "a3ad5fae",
   "metadata": {},
   "outputs": [
    {
     "data": {
      "text/html": [
       "<div>\n",
       "<style scoped>\n",
       "    .dataframe tbody tr th:only-of-type {\n",
       "        vertical-align: middle;\n",
       "    }\n",
       "\n",
       "    .dataframe tbody tr th {\n",
       "        vertical-align: top;\n",
       "    }\n",
       "\n",
       "    .dataframe thead th {\n",
       "        text-align: right;\n",
       "    }\n",
       "</style>\n",
       "<table border=\"1\" class=\"dataframe\">\n",
       "  <thead>\n",
       "    <tr style=\"text-align: right;\">\n",
       "      <th></th>\n",
       "      <th>0</th>\n",
       "      <th>1</th>\n",
       "      <th>2</th>\n",
       "      <th>3</th>\n",
       "      <th>4</th>\n",
       "      <th>5</th>\n",
       "      <th>6</th>\n",
       "      <th>7</th>\n",
       "      <th>8</th>\n",
       "      <th>9</th>\n",
       "      <th>10</th>\n",
       "      <th>11</th>\n",
       "      <th>12</th>\n",
       "    </tr>\n",
       "  </thead>\n",
       "  <tbody>\n",
       "    <tr>\n",
       "      <th>0</th>\n",
       "      <td>-1.382611</td>\n",
       "      <td>-0.713232</td>\n",
       "      <td>-1.173265</td>\n",
       "      <td>0.142244</td>\n",
       "      <td>-0.29649</td>\n",
       "      <td>1.936287</td>\n",
       "      <td>1.636973</td>\n",
       "      <td>1.933252</td>\n",
       "      <td>1.222161</td>\n",
       "      <td>1.899232</td>\n",
       "      <td>2.959104</td>\n",
       "      <td>3.605396</td>\n",
       "      <td>0.808863</td>\n",
       "    </tr>\n",
       "    <tr>\n",
       "      <th>1</th>\n",
       "      <td>1.676895</td>\n",
       "      <td>-0.375380</td>\n",
       "      <td>0.770071</td>\n",
       "      <td>0.142244</td>\n",
       "      <td>-0.68696</td>\n",
       "      <td>0.002051</td>\n",
       "      <td>-0.006015</td>\n",
       "      <td>-0.014623</td>\n",
       "      <td>0.005756</td>\n",
       "      <td>0.024895</td>\n",
       "      <td>0.045601</td>\n",
       "      <td>0.051597</td>\n",
       "      <td>0.808863</td>\n",
       "    </tr>\n",
       "    <tr>\n",
       "      <th>2</th>\n",
       "      <td>0.023524</td>\n",
       "      <td>-0.375380</td>\n",
       "      <td>0.770071</td>\n",
       "      <td>0.142244</td>\n",
       "      <td>-0.29649</td>\n",
       "      <td>-0.197172</td>\n",
       "      <td>-0.190255</td>\n",
       "      <td>-0.201942</td>\n",
       "      <td>-0.190514</td>\n",
       "      <td>-0.174789</td>\n",
       "      <td>-0.198282</td>\n",
       "      <td>-0.215789</td>\n",
       "      <td>0.808863</td>\n",
       "    </tr>\n",
       "    <tr>\n",
       "      <th>3</th>\n",
       "      <td>1.701150</td>\n",
       "      <td>-0.375380</td>\n",
       "      <td>-1.173265</td>\n",
       "      <td>0.142244</td>\n",
       "      <td>1.26539</td>\n",
       "      <td>-0.209517</td>\n",
       "      <td>-0.196536</td>\n",
       "      <td>-0.215355</td>\n",
       "      <td>-0.196867</td>\n",
       "      <td>-0.188265</td>\n",
       "      <td>-0.224471</td>\n",
       "      <td>-0.229401</td>\n",
       "      <td>0.808863</td>\n",
       "    </tr>\n",
       "    <tr>\n",
       "      <th>4</th>\n",
       "      <td>0.348879</td>\n",
       "      <td>-0.375380</td>\n",
       "      <td>-1.173265</td>\n",
       "      <td>0.142244</td>\n",
       "      <td>-0.29649</td>\n",
       "      <td>-0.043911</td>\n",
       "      <td>-0.046841</td>\n",
       "      <td>-0.044039</td>\n",
       "      <td>-0.075494</td>\n",
       "      <td>-0.038808</td>\n",
       "      <td>-0.018234</td>\n",
       "      <td>0.038957</td>\n",
       "      <td>-1.236304</td>\n",
       "    </tr>\n",
       "  </tbody>\n",
       "</table>\n",
       "</div>"
      ],
      "text/plain": [
       "         0         1         2         3        4         5         6   \\\n",
       "0 -1.382611 -0.713232 -1.173265  0.142244 -0.29649  1.936287  1.636973   \n",
       "1  1.676895 -0.375380  0.770071  0.142244 -0.68696  0.002051 -0.006015   \n",
       "2  0.023524 -0.375380  0.770071  0.142244 -0.29649 -0.197172 -0.190255   \n",
       "3  1.701150 -0.375380 -1.173265  0.142244  1.26539 -0.209517 -0.196536   \n",
       "4  0.348879 -0.375380 -1.173265  0.142244 -0.29649 -0.043911 -0.046841   \n",
       "\n",
       "         7         8         9         10        11        12  \n",
       "0  1.933252  1.222161  1.899232  2.959104  3.605396  0.808863  \n",
       "1 -0.014623  0.005756  0.024895  0.045601  0.051597  0.808863  \n",
       "2 -0.201942 -0.190514 -0.174789 -0.198282 -0.215789  0.808863  \n",
       "3 -0.215355 -0.196867 -0.188265 -0.224471 -0.229401  0.808863  \n",
       "4 -0.044039 -0.075494 -0.038808 -0.018234  0.038957 -1.236304  "
      ]
     },
     "execution_count": 51,
     "metadata": {},
     "output_type": "execute_result"
    }
   ],
   "source": [
    "from sklearn.preprocessing import StandardScaler\n",
    "scal = StandardScaler()\n",
    "\n",
    "X_scalled_test = scal.fit_transform(test)\n",
    "X_scalled_test = pd.DataFrame(X_scalled_test)\n",
    "X_scalled_test.head()"
   ]
  },
  {
   "cell_type": "code",
   "execution_count": 52,
   "id": "61dec676",
   "metadata": {},
   "outputs": [
    {
     "name": "stdout",
     "output_type": "stream",
     "text": [
      "(15730,) (15730, 13) (5244, 13) (5244, 13) (15730, 13)\n"
     ]
    }
   ],
   "source": [
    "print(y.shape,X_scalled.shape,X_scalled_test.shape,test.shape,X.shape)"
   ]
  },
  {
   "cell_type": "code",
   "execution_count": 53,
   "id": "584b1b71",
   "metadata": {},
   "outputs": [],
   "source": [
    "from sklearn.decomposition import PCA\n",
    "from sklearn.pipeline import Pipeline\n",
    "from sklearn.linear_model import LinearRegression\n",
    "from sklearn.tree import DecisionTreeRegressor\n",
    "from sklearn.ensemble import RandomForestRegressor"
   ]
  },
  {
   "cell_type": "code",
   "execution_count": 124,
   "id": "146718f3",
   "metadata": {},
   "outputs": [],
   "source": []
  },
  {
   "cell_type": "code",
   "execution_count": 125,
   "id": "54031cba",
   "metadata": {},
   "outputs": [],
   "source": [
    "\n",
    "\n"
   ]
  },
  {
   "cell_type": "code",
   "execution_count": null,
   "id": "4501edc4",
   "metadata": {},
   "outputs": [],
   "source": []
  },
  {
   "cell_type": "code",
   "execution_count": 55,
   "id": "283c4a4c",
   "metadata": {},
   "outputs": [
    {
     "data": {
      "text/plain": [
       "0       0\n",
       "1       0\n",
       "2       0\n",
       "3       0\n",
       "4       0\n",
       "5     678\n",
       "6     578\n",
       "7     588\n",
       "8     539\n",
       "9     231\n",
       "10      0\n",
       "11      0\n",
       "12      0\n",
       "dtype: int64"
      ]
     },
     "execution_count": 55,
     "metadata": {},
     "output_type": "execute_result"
    }
   ],
   "source": [
    "X_scalled.isna().sum()"
   ]
  },
  {
   "cell_type": "code",
   "execution_count": 54,
   "id": "cf4c673d",
   "metadata": {},
   "outputs": [
    {
     "ename": "ValueError",
     "evalue": "Input contains NaN, infinity or a value too large for dtype('float32').",
     "output_type": "error",
     "traceback": [
      "\u001b[1;31m---------------------------------------------------------------------------\u001b[0m",
      "\u001b[1;31mValueError\u001b[0m                                Traceback (most recent call last)",
      "\u001b[1;32mC:\\Users\\HARSHP~1\\AppData\\Local\\Temp/ipykernel_1868/3912899317.py\u001b[0m in \u001b[0;36m<module>\u001b[1;34m\u001b[0m\n\u001b[0;32m      7\u001b[0m \u001b[1;33m\u001b[0m\u001b[0m\n\u001b[0;32m      8\u001b[0m \u001b[1;31m# fit the regressor with x and y data\u001b[0m\u001b[1;33m\u001b[0m\u001b[1;33m\u001b[0m\u001b[0m\n\u001b[1;32m----> 9\u001b[1;33m \u001b[0mregressor\u001b[0m\u001b[1;33m.\u001b[0m\u001b[0mfit\u001b[0m\u001b[1;33m(\u001b[0m\u001b[0mX_scalled\u001b[0m\u001b[1;33m,\u001b[0m \u001b[0my\u001b[0m\u001b[1;33m)\u001b[0m\u001b[1;33m\u001b[0m\u001b[1;33m\u001b[0m\u001b[0m\n\u001b[0m",
      "\u001b[1;32m~\\anaconda3\\lib\\site-packages\\sklearn\\ensemble\\_forest.py\u001b[0m in \u001b[0;36mfit\u001b[1;34m(self, X, y, sample_weight)\u001b[0m\n\u001b[0;32m    302\u001b[0m                 \u001b[1;34m\"sparse multilabel-indicator for y is not supported.\"\u001b[0m\u001b[1;33m\u001b[0m\u001b[1;33m\u001b[0m\u001b[0m\n\u001b[0;32m    303\u001b[0m             )\n\u001b[1;32m--> 304\u001b[1;33m         X, y = self._validate_data(X, y, multi_output=True,\n\u001b[0m\u001b[0;32m    305\u001b[0m                                    accept_sparse=\"csc\", dtype=DTYPE)\n\u001b[0;32m    306\u001b[0m         \u001b[1;32mif\u001b[0m \u001b[0msample_weight\u001b[0m \u001b[1;32mis\u001b[0m \u001b[1;32mnot\u001b[0m \u001b[1;32mNone\u001b[0m\u001b[1;33m:\u001b[0m\u001b[1;33m\u001b[0m\u001b[1;33m\u001b[0m\u001b[0m\n",
      "\u001b[1;32m~\\anaconda3\\lib\\site-packages\\sklearn\\base.py\u001b[0m in \u001b[0;36m_validate_data\u001b[1;34m(self, X, y, reset, validate_separately, **check_params)\u001b[0m\n\u001b[0;32m    431\u001b[0m                 \u001b[0my\u001b[0m \u001b[1;33m=\u001b[0m \u001b[0mcheck_array\u001b[0m\u001b[1;33m(\u001b[0m\u001b[0my\u001b[0m\u001b[1;33m,\u001b[0m \u001b[1;33m**\u001b[0m\u001b[0mcheck_y_params\u001b[0m\u001b[1;33m)\u001b[0m\u001b[1;33m\u001b[0m\u001b[1;33m\u001b[0m\u001b[0m\n\u001b[0;32m    432\u001b[0m             \u001b[1;32melse\u001b[0m\u001b[1;33m:\u001b[0m\u001b[1;33m\u001b[0m\u001b[1;33m\u001b[0m\u001b[0m\n\u001b[1;32m--> 433\u001b[1;33m                 \u001b[0mX\u001b[0m\u001b[1;33m,\u001b[0m \u001b[0my\u001b[0m \u001b[1;33m=\u001b[0m \u001b[0mcheck_X_y\u001b[0m\u001b[1;33m(\u001b[0m\u001b[0mX\u001b[0m\u001b[1;33m,\u001b[0m \u001b[0my\u001b[0m\u001b[1;33m,\u001b[0m \u001b[1;33m**\u001b[0m\u001b[0mcheck_params\u001b[0m\u001b[1;33m)\u001b[0m\u001b[1;33m\u001b[0m\u001b[1;33m\u001b[0m\u001b[0m\n\u001b[0m\u001b[0;32m    434\u001b[0m             \u001b[0mout\u001b[0m \u001b[1;33m=\u001b[0m \u001b[0mX\u001b[0m\u001b[1;33m,\u001b[0m \u001b[0my\u001b[0m\u001b[1;33m\u001b[0m\u001b[1;33m\u001b[0m\u001b[0m\n\u001b[0;32m    435\u001b[0m \u001b[1;33m\u001b[0m\u001b[0m\n",
      "\u001b[1;32m~\\anaconda3\\lib\\site-packages\\sklearn\\utils\\validation.py\u001b[0m in \u001b[0;36minner_f\u001b[1;34m(*args, **kwargs)\u001b[0m\n\u001b[0;32m     61\u001b[0m             \u001b[0mextra_args\u001b[0m \u001b[1;33m=\u001b[0m \u001b[0mlen\u001b[0m\u001b[1;33m(\u001b[0m\u001b[0margs\u001b[0m\u001b[1;33m)\u001b[0m \u001b[1;33m-\u001b[0m \u001b[0mlen\u001b[0m\u001b[1;33m(\u001b[0m\u001b[0mall_args\u001b[0m\u001b[1;33m)\u001b[0m\u001b[1;33m\u001b[0m\u001b[1;33m\u001b[0m\u001b[0m\n\u001b[0;32m     62\u001b[0m             \u001b[1;32mif\u001b[0m \u001b[0mextra_args\u001b[0m \u001b[1;33m<=\u001b[0m \u001b[1;36m0\u001b[0m\u001b[1;33m:\u001b[0m\u001b[1;33m\u001b[0m\u001b[1;33m\u001b[0m\u001b[0m\n\u001b[1;32m---> 63\u001b[1;33m                 \u001b[1;32mreturn\u001b[0m \u001b[0mf\u001b[0m\u001b[1;33m(\u001b[0m\u001b[1;33m*\u001b[0m\u001b[0margs\u001b[0m\u001b[1;33m,\u001b[0m \u001b[1;33m**\u001b[0m\u001b[0mkwargs\u001b[0m\u001b[1;33m)\u001b[0m\u001b[1;33m\u001b[0m\u001b[1;33m\u001b[0m\u001b[0m\n\u001b[0m\u001b[0;32m     64\u001b[0m \u001b[1;33m\u001b[0m\u001b[0m\n\u001b[0;32m     65\u001b[0m             \u001b[1;31m# extra_args > 0\u001b[0m\u001b[1;33m\u001b[0m\u001b[1;33m\u001b[0m\u001b[0m\n",
      "\u001b[1;32m~\\anaconda3\\lib\\site-packages\\sklearn\\utils\\validation.py\u001b[0m in \u001b[0;36mcheck_X_y\u001b[1;34m(X, y, accept_sparse, accept_large_sparse, dtype, order, copy, force_all_finite, ensure_2d, allow_nd, multi_output, ensure_min_samples, ensure_min_features, y_numeric, estimator)\u001b[0m\n\u001b[0;32m    869\u001b[0m         \u001b[1;32mraise\u001b[0m \u001b[0mValueError\u001b[0m\u001b[1;33m(\u001b[0m\u001b[1;34m\"y cannot be None\"\u001b[0m\u001b[1;33m)\u001b[0m\u001b[1;33m\u001b[0m\u001b[1;33m\u001b[0m\u001b[0m\n\u001b[0;32m    870\u001b[0m \u001b[1;33m\u001b[0m\u001b[0m\n\u001b[1;32m--> 871\u001b[1;33m     X = check_array(X, accept_sparse=accept_sparse,\n\u001b[0m\u001b[0;32m    872\u001b[0m                     \u001b[0maccept_large_sparse\u001b[0m\u001b[1;33m=\u001b[0m\u001b[0maccept_large_sparse\u001b[0m\u001b[1;33m,\u001b[0m\u001b[1;33m\u001b[0m\u001b[1;33m\u001b[0m\u001b[0m\n\u001b[0;32m    873\u001b[0m                     \u001b[0mdtype\u001b[0m\u001b[1;33m=\u001b[0m\u001b[0mdtype\u001b[0m\u001b[1;33m,\u001b[0m \u001b[0morder\u001b[0m\u001b[1;33m=\u001b[0m\u001b[0morder\u001b[0m\u001b[1;33m,\u001b[0m \u001b[0mcopy\u001b[0m\u001b[1;33m=\u001b[0m\u001b[0mcopy\u001b[0m\u001b[1;33m,\u001b[0m\u001b[1;33m\u001b[0m\u001b[1;33m\u001b[0m\u001b[0m\n",
      "\u001b[1;32m~\\anaconda3\\lib\\site-packages\\sklearn\\utils\\validation.py\u001b[0m in \u001b[0;36minner_f\u001b[1;34m(*args, **kwargs)\u001b[0m\n\u001b[0;32m     61\u001b[0m             \u001b[0mextra_args\u001b[0m \u001b[1;33m=\u001b[0m \u001b[0mlen\u001b[0m\u001b[1;33m(\u001b[0m\u001b[0margs\u001b[0m\u001b[1;33m)\u001b[0m \u001b[1;33m-\u001b[0m \u001b[0mlen\u001b[0m\u001b[1;33m(\u001b[0m\u001b[0mall_args\u001b[0m\u001b[1;33m)\u001b[0m\u001b[1;33m\u001b[0m\u001b[1;33m\u001b[0m\u001b[0m\n\u001b[0;32m     62\u001b[0m             \u001b[1;32mif\u001b[0m \u001b[0mextra_args\u001b[0m \u001b[1;33m<=\u001b[0m \u001b[1;36m0\u001b[0m\u001b[1;33m:\u001b[0m\u001b[1;33m\u001b[0m\u001b[1;33m\u001b[0m\u001b[0m\n\u001b[1;32m---> 63\u001b[1;33m                 \u001b[1;32mreturn\u001b[0m \u001b[0mf\u001b[0m\u001b[1;33m(\u001b[0m\u001b[1;33m*\u001b[0m\u001b[0margs\u001b[0m\u001b[1;33m,\u001b[0m \u001b[1;33m**\u001b[0m\u001b[0mkwargs\u001b[0m\u001b[1;33m)\u001b[0m\u001b[1;33m\u001b[0m\u001b[1;33m\u001b[0m\u001b[0m\n\u001b[0m\u001b[0;32m     64\u001b[0m \u001b[1;33m\u001b[0m\u001b[0m\n\u001b[0;32m     65\u001b[0m             \u001b[1;31m# extra_args > 0\u001b[0m\u001b[1;33m\u001b[0m\u001b[1;33m\u001b[0m\u001b[0m\n",
      "\u001b[1;32m~\\anaconda3\\lib\\site-packages\\sklearn\\utils\\validation.py\u001b[0m in \u001b[0;36mcheck_array\u001b[1;34m(array, accept_sparse, accept_large_sparse, dtype, order, copy, force_all_finite, ensure_2d, allow_nd, ensure_min_samples, ensure_min_features, estimator)\u001b[0m\n\u001b[0;32m    718\u001b[0m \u001b[1;33m\u001b[0m\u001b[0m\n\u001b[0;32m    719\u001b[0m         \u001b[1;32mif\u001b[0m \u001b[0mforce_all_finite\u001b[0m\u001b[1;33m:\u001b[0m\u001b[1;33m\u001b[0m\u001b[1;33m\u001b[0m\u001b[0m\n\u001b[1;32m--> 720\u001b[1;33m             _assert_all_finite(array,\n\u001b[0m\u001b[0;32m    721\u001b[0m                                allow_nan=force_all_finite == 'allow-nan')\n\u001b[0;32m    722\u001b[0m \u001b[1;33m\u001b[0m\u001b[0m\n",
      "\u001b[1;32m~\\anaconda3\\lib\\site-packages\\sklearn\\utils\\validation.py\u001b[0m in \u001b[0;36m_assert_all_finite\u001b[1;34m(X, allow_nan, msg_dtype)\u001b[0m\n\u001b[0;32m    101\u001b[0m                 not allow_nan and not np.isfinite(X).all()):\n\u001b[0;32m    102\u001b[0m             \u001b[0mtype_err\u001b[0m \u001b[1;33m=\u001b[0m \u001b[1;34m'infinity'\u001b[0m \u001b[1;32mif\u001b[0m \u001b[0mallow_nan\u001b[0m \u001b[1;32melse\u001b[0m \u001b[1;34m'NaN, infinity'\u001b[0m\u001b[1;33m\u001b[0m\u001b[1;33m\u001b[0m\u001b[0m\n\u001b[1;32m--> 103\u001b[1;33m             raise ValueError(\n\u001b[0m\u001b[0;32m    104\u001b[0m                     \u001b[0mmsg_err\u001b[0m\u001b[1;33m.\u001b[0m\u001b[0mformat\u001b[0m\u001b[1;33m\u001b[0m\u001b[1;33m\u001b[0m\u001b[0m\n\u001b[0;32m    105\u001b[0m                     (type_err,\n",
      "\u001b[1;31mValueError\u001b[0m: Input contains NaN, infinity or a value too large for dtype('float32')."
     ]
    }
   ],
   "source": [
    "# Fitting Random Forest Regression to the dataset\n",
    "# import the regressor\n",
    "from sklearn.ensemble import RandomForestRegressor\n",
    " \n",
    " # create regressor object\n",
    "regressor = RandomForestRegressor(n_estimators= 520,random_state = 0)\n",
    " \n",
    "# fit the regressor with x and y data\n",
    "regressor.fit(X_scalled, y) "
   ]
  },
  {
   "cell_type": "code",
   "execution_count": null,
   "id": "3eda454d",
   "metadata": {},
   "outputs": [],
   "source": [
    "print(X_scalled.shape , y.shape)"
   ]
  },
  {
   "cell_type": "code",
   "execution_count": 27,
   "id": "90b0fbbd",
   "metadata": {},
   "outputs": [],
   "source": [
    "#import matplotlib.pyplot as plt\n",
    "#X_grid = np.arange(min(X_scalled), max(X_scalled), 0.01)\n",
    "#X_grid = X_grid.reshape((len(X_grid), 1))\n",
    "#plt.scatter(X_scalled, y, color = 'red')\n",
    "#plt.plot(X_grid, regressor.predict(X_grid), color = 'blue')\n",
    "#plt.title('Truth or Bluff (Random Forest Regression)')\n",
    "#plt.xlabel('Position level')\n",
    "#plt.ylabel('Salary')\n",
    "#plt.show()"
   ]
  },
  {
   "cell_type": "code",
   "execution_count": 28,
   "id": "ff947761",
   "metadata": {},
   "outputs": [],
   "source": [
    "Y_pred = regressor.predict(X_scalled)  # test the output by changing values"
   ]
  },
  {
   "cell_type": "code",
   "execution_count": 29,
   "id": "f12c36c6",
   "metadata": {},
   "outputs": [
    {
     "name": "stdout",
     "output_type": "stream",
     "text": [
      "mean absolute error for training : 35.175272409089736\n",
      "mean squared error for training : 72.43613863355299\n"
     ]
    }
   ],
   "source": [
    "from sklearn.metrics import mean_absolute_error as mae\n",
    "from sklearn.metrics import mean_squared_error as mse\n",
    "print(\"mean absolute error for training : {}\".format(mae(y,Y_pred)))\n",
    "print(\"mean squared error for training : {}\".format(np.sqrt(mse(y,Y_pred))))"
   ]
  },
  {
   "cell_type": "code",
   "execution_count": 30,
   "id": "5ab21ed3",
   "metadata": {},
   "outputs": [
    {
     "data": {
      "text/plain": [
       "array([361.92692308, 347.89230769, 469.62692308, ..., 392.37307692,\n",
       "       273.08846154, 692.20384615])"
      ]
     },
     "execution_count": 30,
     "metadata": {},
     "output_type": "execute_result"
    }
   ],
   "source": [
    "\n",
    "pred = regressor.predict(X_scalled_test)\n",
    "pred\n"
   ]
  },
  {
   "cell_type": "code",
   "execution_count": 31,
   "id": "acfa4ae2",
   "metadata": {},
   "outputs": [
    {
     "data": {
      "text/html": [
       "<div>\n",
       "<style scoped>\n",
       "    .dataframe tbody tr th:only-of-type {\n",
       "        vertical-align: middle;\n",
       "    }\n",
       "\n",
       "    .dataframe tbody tr th {\n",
       "        vertical-align: top;\n",
       "    }\n",
       "\n",
       "    .dataframe thead th {\n",
       "        text-align: right;\n",
       "    }\n",
       "</style>\n",
       "<table border=\"1\" class=\"dataframe\">\n",
       "  <thead>\n",
       "    <tr style=\"text-align: right;\">\n",
       "      <th></th>\n",
       "      <th>id</th>\n",
       "      <th>price1</th>\n",
       "    </tr>\n",
       "  </thead>\n",
       "  <tbody>\n",
       "    <tr>\n",
       "      <th>0</th>\n",
       "      <td>2242</td>\n",
       "      <td>362.092</td>\n",
       "    </tr>\n",
       "    <tr>\n",
       "      <th>1</th>\n",
       "      <td>20532</td>\n",
       "      <td>342.130</td>\n",
       "    </tr>\n",
       "    <tr>\n",
       "      <th>2</th>\n",
       "      <td>10648</td>\n",
       "      <td>466.318</td>\n",
       "    </tr>\n",
       "    <tr>\n",
       "      <th>3</th>\n",
       "      <td>20677</td>\n",
       "      <td>977.096</td>\n",
       "    </tr>\n",
       "    <tr>\n",
       "      <th>4</th>\n",
       "      <td>12593</td>\n",
       "      <td>398.980</td>\n",
       "    </tr>\n",
       "  </tbody>\n",
       "</table>\n",
       "</div>"
      ],
      "text/plain": [
       "      id   price1\n",
       "0   2242  362.092\n",
       "1  20532  342.130\n",
       "2  10648  466.318\n",
       "3  20677  977.096\n",
       "4  12593  398.980"
      ]
     },
     "execution_count": 31,
     "metadata": {},
     "output_type": "execute_result"
    }
   ],
   "source": [
    "a = pd.read_csv(\"Sample__submission.csv\")\n",
    "a.head()"
   ]
  },
  {
   "cell_type": "code",
   "execution_count": 32,
   "id": "f40659e6",
   "metadata": {},
   "outputs": [],
   "source": [
    "a[\"price1\"] = pred\n",
    "a[\"id\"] = sr\n",
    "a.head()\n",
    "a.to_csv(\"Sample__submission.csv\",index = False)"
   ]
  },
  {
   "cell_type": "code",
   "execution_count": null,
   "id": "c1260f1a",
   "metadata": {},
   "outputs": [],
   "source": []
  },
  {
   "cell_type": "code",
   "execution_count": null,
   "id": "7b3fda3b",
   "metadata": {},
   "outputs": [],
   "source": [
    "\n"
   ]
  },
  {
   "cell_type": "markdown",
   "id": "20c7f751",
   "metadata": {},
   "source": [
    "Keras optimizer"
   ]
  },
  {
   "cell_type": "code",
   "execution_count": 62,
   "id": "3e26ca44",
   "metadata": {},
   "outputs": [],
   "source": [
    "import pandas as pd\n",
    "\n",
    "import numpy as np \n",
    "\n",
    "import matplotlib.pyplot as plt\n",
    "\n",
    "import sklearn\n",
    "\n",
    "\n",
    "# Import necessary modules\n",
    "\n",
    "from sklearn.model_selection import train_test_split\n",
    "\n",
    "from sklearn.metrics import mean_squared_error\n",
    "\n",
    "from sklearn.metrics import mean_absolute_error\n",
    "\n",
    "from math import sqrt\n",
    "\n",
    "\n",
    "# Keras specific\n",
    "\n",
    "import keras\n",
    "\n",
    "from keras.models import Sequential\n",
    "\n",
    "from keras.layers import Dense"
   ]
  },
  {
   "cell_type": "code",
   "execution_count": 63,
   "id": "3394bb82",
   "metadata": {},
   "outputs": [],
   "source": [
    "model = Sequential()\n",
    "\n",
    "model.add(Dense(500, input_dim=14, activation= \"relu\"))\n",
    "\n",
    "model.add(Dense(100, activation= \"relu\"))\n",
    "\n",
    "model.add(Dense(50, activation= \"relu\"))\n",
    "\n",
    "model.add(Dense(25, activation= \"relu\"))\n",
    "\n",
    "model.add(Dense(1))"
   ]
  },
  {
   "cell_type": "code",
   "execution_count": 64,
   "id": "5bfa6486",
   "metadata": {},
   "outputs": [
    {
     "name": "stdout",
     "output_type": "stream",
     "text": [
      "Epoch 1/20\n",
      "312/312 [==============================] - 3s 5ms/step - loss: 218.5266 - mean_absolute_error: 218.5266\n",
      "Epoch 2/20\n",
      "312/312 [==============================] - 2s 7ms/step - loss: 133.3138 - mean_absolute_error: 133.3138\n",
      "Epoch 3/20\n",
      "312/312 [==============================] - 2s 5ms/step - loss: 132.0867 - mean_absolute_error: 132.0867\n",
      "Epoch 4/20\n",
      "312/312 [==============================] - 2s 6ms/step - loss: 131.0192 - mean_absolute_error: 131.0192\n",
      "Epoch 5/20\n",
      "312/312 [==============================] - 2s 6ms/step - loss: 130.3197 - mean_absolute_error: 130.3197\n",
      "Epoch 6/20\n",
      "312/312 [==============================] - 2s 7ms/step - loss: 129.7850 - mean_absolute_error: 129.7850\n",
      "Epoch 7/20\n",
      "312/312 [==============================] - 2s 7ms/step - loss: 129.3147 - mean_absolute_error: 129.3147\n",
      "Epoch 8/20\n",
      "312/312 [==============================] - 2s 7ms/step - loss: 128.4639 - mean_absolute_error: 128.4639\n",
      "Epoch 9/20\n",
      "312/312 [==============================] - 2s 7ms/step - loss: 128.2103 - mean_absolute_error: 128.2103\n",
      "Epoch 10/20\n",
      "312/312 [==============================] - 2s 7ms/step - loss: 128.1533 - mean_absolute_error: 128.1533\n",
      "Epoch 11/20\n",
      "312/312 [==============================] - 2s 7ms/step - loss: 127.7193 - mean_absolute_error: 127.7193\n",
      "Epoch 12/20\n",
      "312/312 [==============================] - 2s 7ms/step - loss: 127.6488 - mean_absolute_error: 127.6488\n",
      "Epoch 13/20\n",
      "312/312 [==============================] - 2s 7ms/step - loss: 127.3871 - mean_absolute_error: 127.3871\n",
      "Epoch 14/20\n",
      "312/312 [==============================] - 2s 7ms/step - loss: 127.2159 - mean_absolute_error: 127.2159\n",
      "Epoch 15/20\n",
      "312/312 [==============================] - 2s 8ms/step - loss: 126.7675 - mean_absolute_error: 126.7675\n",
      "Epoch 16/20\n",
      "312/312 [==============================] - 2s 7ms/step - loss: 126.2484 - mean_absolute_error: 126.2484\n",
      "Epoch 17/20\n",
      "312/312 [==============================] - 2s 7ms/step - loss: 126.6168 - mean_absolute_error: 126.6168\n",
      "Epoch 18/20\n",
      "312/312 [==============================] - 2s 7ms/step - loss: 126.2229 - mean_absolute_error: 126.2229\n",
      "Epoch 19/20\n",
      "312/312 [==============================] - 2s 6ms/step - loss: 125.9713 - mean_absolute_error: 125.9713\n",
      "Epoch 20/20\n",
      "312/312 [==============================] - 2s 7ms/step - loss: 125.6774 - mean_absolute_error: 125.6774\n"
     ]
    },
    {
     "data": {
      "text/plain": [
       "<keras.callbacks.History at 0x1faf3f54910>"
      ]
     },
     "execution_count": 64,
     "metadata": {},
     "output_type": "execute_result"
    }
   ],
   "source": [
    "model.compile(loss= \"mean_absolute_error\" , optimizer=\"adam\", metrics=[\"mean_absolute_error\"])\n",
    "\n",
    "model.fit(X_scalled, y, epochs=20)"
   ]
  },
  {
   "cell_type": "code",
   "execution_count": 65,
   "id": "7c363d69",
   "metadata": {},
   "outputs": [
    {
     "name": "stdout",
     "output_type": "stream",
     "text": [
      "185.6352733491749\n"
     ]
    }
   ],
   "source": [
    "pred_train= model.predict(X_scalled)\n",
    "\n",
    "print(np.sqrt(mean_squared_error(y,pred_train)))\n",
    "\n",
    "\n"
   ]
  },
  {
   "cell_type": "code",
   "execution_count": 66,
   "id": "96ebf4e7",
   "metadata": {},
   "outputs": [],
   "source": [
    "y_pred = model.predict(X_scalled_test)"
   ]
  },
  {
   "cell_type": "code",
   "execution_count": 68,
   "id": "e63ff19d",
   "metadata": {},
   "outputs": [],
   "source": [
    "a[\"price1\"] = y_pred\n",
    "a[\"id\"] = sr\n",
    "a.head()\n",
    "a.to_csv(\"Sample__submission.csv\",index = False)"
   ]
  },
  {
   "cell_type": "code",
   "execution_count": 40,
   "id": "849ba9c8",
   "metadata": {},
   "outputs": [],
   "source": [
    "from tensorflow.keras import models,layers"
   ]
  },
  {
   "cell_type": "code",
   "execution_count": null,
   "id": "81a948a0",
   "metadata": {},
   "outputs": [],
   "source": [
    "a = pd.read_csv(\"Sample__submission.csv\")\n"
   ]
  },
  {
   "cell_type": "code",
   "execution_count": 48,
   "id": "6fb5d404",
   "metadata": {},
   "outputs": [],
   "source": [
    "# Build the Keras model (already compiled)\n",
    "network = models.Sequential()\n",
    "network.add(layers.Dense(64, activation='relu',\n",
    "                        input_shape=(X_scalled.shape[1],)))\n",
    "network.add(layers.Dense(64, activation='relu'))\n",
    "network.add(layers.Dense(1))\n",
    "network.compile(optimizer='rmsprop', loss='mse', metrics=['mae']) # MSE Loss & MAE Loss - Regression task\n",
    "\n",
    "# Train the model (in silent mode, verbose=0)\n",
    "history =network.fit(X_scalled,y,\n",
    "                    epochs=30, batch_size=1, verbose=0)\n",
    "mae_history = history.history['mae']"
   ]
  },
  {
   "cell_type": "code",
   "execution_count": null,
   "id": "381ef04a",
   "metadata": {},
   "outputs": [],
   "source": []
  },
  {
   "cell_type": "code",
   "execution_count": 75,
   "id": "85863390",
   "metadata": {},
   "outputs": [],
   "source": []
  },
  {
   "cell_type": "code",
   "execution_count": null,
   "id": "49a52324",
   "metadata": {},
   "outputs": [],
   "source": []
  },
  {
   "cell_type": "code",
   "execution_count": null,
   "id": "b812d47d",
   "metadata": {},
   "outputs": [],
   "source": []
  },
  {
   "cell_type": "code",
   "execution_count": null,
   "id": "a9536910",
   "metadata": {},
   "outputs": [],
   "source": []
  },
  {
   "cell_type": "code",
   "execution_count": 79,
   "id": "6616a263",
   "metadata": {},
   "outputs": [],
   "source": []
  },
  {
   "cell_type": "code",
   "execution_count": null,
   "id": "6a1881c6",
   "metadata": {},
   "outputs": [],
   "source": []
  },
  {
   "cell_type": "code",
   "execution_count": 81,
   "id": "32882bd9",
   "metadata": {},
   "outputs": [],
   "source": []
  },
  {
   "cell_type": "code",
   "execution_count": 79,
   "id": "2ca3e609",
   "metadata": {},
   "outputs": [
    {
     "name": "stdout",
     "output_type": "stream",
     "text": [
      "{'n_estimators': [200, 400, 600, 800, 1000, 1200, 1400, 1600, 1800, 2000], 'max_features': ['auto', 'sqrt'], 'max_depth': [10, 20, 30, 40, 50, 60, 70, 80, 90, 100, 110, None], 'min_samples_split': [2, 5, 10], 'min_samples_leaf': [1, 2, 4], 'bootstrap': [True, False]}\n"
     ]
    }
   ],
   "source": [
    "from sklearn.model_selection import RandomizedSearchCV# Number of trees in random forest\n",
    "n_estimators = [int(x) for x in np.linspace(start = 200, stop = 2000, num = 10)]\n",
    "# Number of features to consider at every split\n",
    "max_features = ['auto', 'sqrt']\n",
    "# Maximum number of levels in tree\n",
    "max_depth = [int(x) for x in np.linspace(10, 110, num = 11)]\n",
    "max_depth.append(None)\n",
    "# Minimum number of samples required to split a node\n",
    "min_samples_split = [2, 5, 10]\n",
    "# Minimum number of samples required at each leaf node\n",
    "min_samples_leaf = [1, 2, 4]\n",
    "# Method of selecting samples for training each tree\n",
    "bootstrap = [True, False]# Create the random grid\n",
    "random_grid = {'n_estimators': n_estimators,\n",
    "               'max_features': max_features,\n",
    "               'max_depth': max_depth,\n",
    "               'min_samples_split': min_samples_split,\n",
    "               'min_samples_leaf': min_samples_leaf,\n",
    "               'bootstrap': bootstrap}\n",
    "print(random_grid)"
   ]
  },
  {
   "cell_type": "code",
   "execution_count": null,
   "id": "95fe4ff0",
   "metadata": {},
   "outputs": [
    {
     "name": "stdout",
     "output_type": "stream",
     "text": [
      "Fitting 3 folds for each of 50 candidates, totalling 150 fits\n"
     ]
    }
   ],
   "source": [
    "# Use the random grid to search for best hyperparameters\n",
    "# First create the base model to tune\n",
    "rf = RandomForestRegressor()\n",
    "# Random search of parameters, using 3 fold cross validation, \n",
    "# search across 100 different combinations, and use all available cores\n",
    "rf_random = RandomizedSearchCV(estimator = rf, param_distributions = random_grid, n_iter = 50, cv = 3, verbose=2, random_state=42, n_jobs = -1)# Fit the random search model\n",
    "rf_random.fit(X_scalled, y)"
   ]
  },
  {
   "cell_type": "code",
   "execution_count": 48,
   "id": "dada963f",
   "metadata": {},
   "outputs": [
    {
     "data": {
      "text/plain": [
       "{'n_estimators': 400,\n",
       " 'min_samples_split': 2,\n",
       " 'min_samples_leaf': 1,\n",
       " 'max_features': 'sqrt',\n",
       " 'max_depth': None,\n",
       " 'bootstrap': False}"
      ]
     },
     "execution_count": 48,
     "metadata": {},
     "output_type": "execute_result"
    }
   ],
   "source": [
    "rf_random.best_params_"
   ]
  },
  {
   "cell_type": "code",
   "execution_count": 69,
   "id": "b5ca0b0f",
   "metadata": {},
   "outputs": [
    {
     "name": "stdout",
     "output_type": "stream",
     "text": [
      "Model Performance\n",
      "Average Error: 28.4945 degrees.\n",
      "Accuracy = 94.81%.\n",
      "Model Performance\n",
      "Average Error: 2.3824 degrees.\n",
      "Accuracy = 99.56%.\n",
      "Improvement of 5.01%.\n"
     ]
    }
   ],
   "source": [
    "def evaluate(model, test_features, test_labels):\n",
    "    predictions = model.predict(test_features)\n",
    "    errors = abs(predictions - test_labels)\n",
    "    mape = 100 * np.mean(errors / test_labels)\n",
    "    accuracy = 100 - mape\n",
    "    print('Model Performance')\n",
    "    print('Average Error: {:0.4f} degrees.'.format(np.mean(errors)))\n",
    "    print('Accuracy = {:0.2f}%.'.format(accuracy))\n",
    "    \n",
    "    return accuracy\n",
    "base_model = RandomForestRegressor(n_estimators = 10, random_state = 42)\n",
    "base_model.fit(X_scalled,y)\n",
    "base_accuracy = evaluate(base_model, X_scalled, y)\n",
    "\n",
    "\n",
    "best_random = RandomForestRegressor(n_estimators= 400,\n",
    " min_samples_split= 2,\n",
    " min_samples_leaf=1,\n",
    " max_features='sqrt',\n",
    " max_depth= None,\n",
    " bootstrap= False)\n",
    "best_random.fit(X_scalled,y)\n",
    "random_accuracy = evaluate(best_random, X_scalled,y)\n",
    "\n",
    "print('Improvement of {:0.2f}%.'.format( 100 * (random_accuracy - base_accuracy) / base_accuracy))"
   ]
  },
  {
   "cell_type": "code",
   "execution_count": 71,
   "id": "edb645f8",
   "metadata": {},
   "outputs": [],
   "source": [
    "pred = best_random.predict(X_scalled_test)\n",
    "\n",
    "a = pd.read_csv(\"Sample__submission.csv\")\n",
    "a[\"id\"] = sr\n",
    "a[\"price1\"] = pred\n",
    "a.to_csv(\"Sample__submission.csv\",index = False)"
   ]
  },
  {
   "cell_type": "code",
   "execution_count": 72,
   "id": "082f0c26",
   "metadata": {},
   "outputs": [
    {
     "data": {
      "text/html": [
       "<div>\n",
       "<style scoped>\n",
       "    .dataframe tbody tr th:only-of-type {\n",
       "        vertical-align: middle;\n",
       "    }\n",
       "\n",
       "    .dataframe tbody tr th {\n",
       "        vertical-align: top;\n",
       "    }\n",
       "\n",
       "    .dataframe thead th {\n",
       "        text-align: right;\n",
       "    }\n",
       "</style>\n",
       "<table border=\"1\" class=\"dataframe\">\n",
       "  <thead>\n",
       "    <tr style=\"text-align: right;\">\n",
       "      <th></th>\n",
       "      <th>id</th>\n",
       "      <th>price1</th>\n",
       "    </tr>\n",
       "  </thead>\n",
       "  <tbody>\n",
       "    <tr>\n",
       "      <th>0</th>\n",
       "      <td>2242</td>\n",
       "      <td>409.630833</td>\n",
       "    </tr>\n",
       "    <tr>\n",
       "      <th>1</th>\n",
       "      <td>20532</td>\n",
       "      <td>426.462083</td>\n",
       "    </tr>\n",
       "    <tr>\n",
       "      <th>2</th>\n",
       "      <td>10648</td>\n",
       "      <td>472.178125</td>\n",
       "    </tr>\n",
       "    <tr>\n",
       "      <th>3</th>\n",
       "      <td>20677</td>\n",
       "      <td>775.736667</td>\n",
       "    </tr>\n",
       "    <tr>\n",
       "      <th>4</th>\n",
       "      <td>12593</td>\n",
       "      <td>456.591875</td>\n",
       "    </tr>\n",
       "  </tbody>\n",
       "</table>\n",
       "</div>"
      ],
      "text/plain": [
       "      id      price1\n",
       "0   2242  409.630833\n",
       "1  20532  426.462083\n",
       "2  10648  472.178125\n",
       "3  20677  775.736667\n",
       "4  12593  456.591875"
      ]
     },
     "execution_count": 72,
     "metadata": {},
     "output_type": "execute_result"
    }
   ],
   "source": [
    "a.head()"
   ]
  },
  {
   "cell_type": "code",
   "execution_count": null,
   "id": "aa4f1dc7",
   "metadata": {},
   "outputs": [],
   "source": []
  },
  {
   "cell_type": "code",
   "execution_count": null,
   "id": "8764c65b",
   "metadata": {},
   "outputs": [],
   "source": []
  },
  {
   "cell_type": "code",
   "execution_count": null,
   "id": "cdabd091",
   "metadata": {},
   "outputs": [],
   "source": []
  }
 ],
 "metadata": {
  "kernelspec": {
   "display_name": "Python 3 (ipykernel)",
   "language": "python",
   "name": "python3"
  },
  "language_info": {
   "codemirror_mode": {
    "name": "ipython",
    "version": 3
   },
   "file_extension": ".py",
   "mimetype": "text/x-python",
   "name": "python",
   "nbconvert_exporter": "python",
   "pygments_lexer": "ipython3",
   "version": "3.9.12"
  },
  "vscode": {
   "interpreter": {
    "hash": "19075dca3f3033e8f2700ff91f3189ca4c7160776ef36d063f0544f7d0c7911a"
   }
  }
 },
 "nbformat": 4,
 "nbformat_minor": 5
}
